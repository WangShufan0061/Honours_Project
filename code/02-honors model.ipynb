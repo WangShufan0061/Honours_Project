{
 "cells": [
  {
   "cell_type": "code",
   "execution_count": 1,
   "id": "9779ca10",
   "metadata": {},
   "outputs": [],
   "source": [
    "\n",
    "# Import basic libraries\n",
    "import numpy as np # linear algebra\n",
    "import pandas as pd # data processing, CSV file I/O (e.g. pd.read_csv)\n",
    "from sklearn.preprocessing import StandardScaler\n",
    "\n",
    "# import visualization libraries\n",
    "import seaborn as sns\n",
    "import matplotlib.pyplot as plt\n",
    "\n",
    "from sklearn.metrics import roc_curve\n",
    "from sklearn.metrics import roc_auc_score\n",
    "from sklearn.metrics import precision_score\n",
    "from sklearn.metrics import recall_score\n",
    "from sklearn.metrics import auc, precision_recall_curve\n",
    "# Sharpley value\n",
    "import shap\n",
    "import lime\n",
    "import lime.lime_tabular\n",
    "\n",
    "#model\n",
    "from sklearn.tree import DecisionTreeRegressor\n",
    "from sklearn.model_selection import GridSearchCV\n",
    "from sklearn.linear_model import LogisticRegression \n",
    "from xgboost import  XGBClassifier\n",
    "import xgboost as xgb\n",
    "from hyperopt import STATUS_OK, Trials, fmin, hp, tpe\n",
    "# stepwise\n",
    "from mlxtend.feature_selection import SequentialFeatureSelector as sfs\n",
    "\n",
    "import statsmodels.api as sm\n",
    "from sklearn.ensemble import RandomForestClassifier\n",
    "from sklearn.model_selection import RandomizedSearchCV\n",
    "\n",
    "# perform\n",
    "from sklearn.metrics import accuracy_score, make_scorer\n",
    "from sklearn.model_selection import train_test_split\n",
    "\n",
    "from sklearn.metrics import accuracy_score\n",
    "from sklearn.metrics import f1_score\n",
    "\n",
    "# under-sample\n",
    "from collections import Counter\n",
    "from sklearn.datasets import make_classification\n",
    "from imblearn.under_sampling import RandomUnderSampler\n",
    "from imblearn.over_sampling import RandomOverSampler\n",
    "from imblearn.over_sampling import SMOTE, ADASYN\n",
    "\n",
    "# statics\n",
    "import scipy.stats as st\n",
    "import torch\n",
    "\n",
    "import random \n",
    "\n",
    "random.seed(10)\n"
   ]
  },
  {
   "cell_type": "code",
   "execution_count": 2,
   "id": "6bb31bca",
   "metadata": {},
   "outputs": [
    {
     "data": {
      "text/html": [
       "<div>\n",
       "<style scoped>\n",
       "    .dataframe tbody tr th:only-of-type {\n",
       "        vertical-align: middle;\n",
       "    }\n",
       "\n",
       "    .dataframe tbody tr th {\n",
       "        vertical-align: top;\n",
       "    }\n",
       "\n",
       "    .dataframe thead th {\n",
       "        text-align: right;\n",
       "    }\n",
       "</style>\n",
       "<table border=\"1\" class=\"dataframe\">\n",
       "  <thead>\n",
       "    <tr style=\"text-align: right;\">\n",
       "      <th></th>\n",
       "      <th>Unnamed: 0</th>\n",
       "      <th>limit_bal</th>\n",
       "      <th>sex</th>\n",
       "      <th>age</th>\n",
       "      <th>pay_Sep</th>\n",
       "      <th>pay_Aug</th>\n",
       "      <th>pay_Jul</th>\n",
       "      <th>pay_Jun</th>\n",
       "      <th>pay_May</th>\n",
       "      <th>pay_Apr</th>\n",
       "      <th>...</th>\n",
       "      <th>pay_amt_May</th>\n",
       "      <th>pay_amt_Apr</th>\n",
       "      <th>IsDefaulter</th>\n",
       "      <th>Payement_Value</th>\n",
       "      <th>Dues</th>\n",
       "      <th>education_graduate school</th>\n",
       "      <th>education_high school</th>\n",
       "      <th>education_university</th>\n",
       "      <th>marriage_married</th>\n",
       "      <th>marriage_single</th>\n",
       "    </tr>\n",
       "  </thead>\n",
       "  <tbody>\n",
       "    <tr>\n",
       "      <th>0</th>\n",
       "      <td>0</td>\n",
       "      <td>20000</td>\n",
       "      <td>0</td>\n",
       "      <td>24</td>\n",
       "      <td>2</td>\n",
       "      <td>2</td>\n",
       "      <td>-1</td>\n",
       "      <td>-1</td>\n",
       "      <td>-2</td>\n",
       "      <td>-2</td>\n",
       "      <td>...</td>\n",
       "      <td>0</td>\n",
       "      <td>0</td>\n",
       "      <td>1</td>\n",
       "      <td>-2</td>\n",
       "      <td>3913</td>\n",
       "      <td>0</td>\n",
       "      <td>0</td>\n",
       "      <td>1</td>\n",
       "      <td>1</td>\n",
       "      <td>0</td>\n",
       "    </tr>\n",
       "    <tr>\n",
       "      <th>1</th>\n",
       "      <td>1</td>\n",
       "      <td>120000</td>\n",
       "      <td>0</td>\n",
       "      <td>26</td>\n",
       "      <td>-1</td>\n",
       "      <td>2</td>\n",
       "      <td>0</td>\n",
       "      <td>0</td>\n",
       "      <td>0</td>\n",
       "      <td>2</td>\n",
       "      <td>...</td>\n",
       "      <td>0</td>\n",
       "      <td>2000</td>\n",
       "      <td>1</td>\n",
       "      <td>3</td>\n",
       "      <td>10352</td>\n",
       "      <td>0</td>\n",
       "      <td>0</td>\n",
       "      <td>1</td>\n",
       "      <td>0</td>\n",
       "      <td>1</td>\n",
       "    </tr>\n",
       "    <tr>\n",
       "      <th>2</th>\n",
       "      <td>2</td>\n",
       "      <td>90000</td>\n",
       "      <td>0</td>\n",
       "      <td>34</td>\n",
       "      <td>0</td>\n",
       "      <td>0</td>\n",
       "      <td>0</td>\n",
       "      <td>0</td>\n",
       "      <td>0</td>\n",
       "      <td>0</td>\n",
       "      <td>...</td>\n",
       "      <td>1000</td>\n",
       "      <td>5000</td>\n",
       "      <td>0</td>\n",
       "      <td>0</td>\n",
       "      <td>76608</td>\n",
       "      <td>0</td>\n",
       "      <td>0</td>\n",
       "      <td>1</td>\n",
       "      <td>0</td>\n",
       "      <td>1</td>\n",
       "    </tr>\n",
       "    <tr>\n",
       "      <th>3</th>\n",
       "      <td>3</td>\n",
       "      <td>50000</td>\n",
       "      <td>0</td>\n",
       "      <td>37</td>\n",
       "      <td>0</td>\n",
       "      <td>0</td>\n",
       "      <td>0</td>\n",
       "      <td>0</td>\n",
       "      <td>0</td>\n",
       "      <td>0</td>\n",
       "      <td>...</td>\n",
       "      <td>1069</td>\n",
       "      <td>1000</td>\n",
       "      <td>0</td>\n",
       "      <td>0</td>\n",
       "      <td>174713</td>\n",
       "      <td>0</td>\n",
       "      <td>0</td>\n",
       "      <td>1</td>\n",
       "      <td>1</td>\n",
       "      <td>0</td>\n",
       "    </tr>\n",
       "    <tr>\n",
       "      <th>4</th>\n",
       "      <td>4</td>\n",
       "      <td>50000</td>\n",
       "      <td>1</td>\n",
       "      <td>57</td>\n",
       "      <td>-1</td>\n",
       "      <td>0</td>\n",
       "      <td>-1</td>\n",
       "      <td>0</td>\n",
       "      <td>0</td>\n",
       "      <td>0</td>\n",
       "      <td>...</td>\n",
       "      <td>689</td>\n",
       "      <td>679</td>\n",
       "      <td>0</td>\n",
       "      <td>-2</td>\n",
       "      <td>44620</td>\n",
       "      <td>0</td>\n",
       "      <td>0</td>\n",
       "      <td>1</td>\n",
       "      <td>1</td>\n",
       "      <td>0</td>\n",
       "    </tr>\n",
       "  </tbody>\n",
       "</table>\n",
       "<p>5 rows × 30 columns</p>\n",
       "</div>"
      ],
      "text/plain": [
       "   Unnamed: 0  limit_bal  sex  age  pay_Sep  pay_Aug  pay_Jul  pay_Jun  \\\n",
       "0           0      20000    0   24        2        2       -1       -1   \n",
       "1           1     120000    0   26       -1        2        0        0   \n",
       "2           2      90000    0   34        0        0        0        0   \n",
       "3           3      50000    0   37        0        0        0        0   \n",
       "4           4      50000    1   57       -1        0       -1        0   \n",
       "\n",
       "   pay_May  pay_Apr  ...  pay_amt_May  pay_amt_Apr  IsDefaulter  \\\n",
       "0       -2       -2  ...            0            0            1   \n",
       "1        0        2  ...            0         2000            1   \n",
       "2        0        0  ...         1000         5000            0   \n",
       "3        0        0  ...         1069         1000            0   \n",
       "4        0        0  ...          689          679            0   \n",
       "\n",
       "   Payement_Value    Dues  education_graduate school  education_high school  \\\n",
       "0              -2    3913                          0                      0   \n",
       "1               3   10352                          0                      0   \n",
       "2               0   76608                          0                      0   \n",
       "3               0  174713                          0                      0   \n",
       "4              -2   44620                          0                      0   \n",
       "\n",
       "   education_university  marriage_married  marriage_single  \n",
       "0                     1                 1                0  \n",
       "1                     1                 0                1  \n",
       "2                     1                 0                1  \n",
       "3                     1                 1                0  \n",
       "4                     1                 1                0  \n",
       "\n",
       "[5 rows x 30 columns]"
      ]
     },
     "execution_count": 2,
     "metadata": {},
     "output_type": "execute_result"
    }
   ],
   "source": [
    "df = pd.read_csv(\"./Final_df.csv\")\n",
    "df.head(5)"
   ]
  },
  {
   "cell_type": "code",
   "execution_count": 3,
   "id": "bb58859a",
   "metadata": {},
   "outputs": [],
   "source": [
    "X = df.drop(['IsDefaulter','Payement_Value','Dues','Unnamed: 0'],axis=1)\n",
    "y = df['IsDefaulter']"
   ]
  },
  {
   "cell_type": "code",
   "execution_count": 4,
   "id": "7ca36111",
   "metadata": {},
   "outputs": [],
   "source": [
    "# change the the features' types as categorical variables\n",
    "X.iloc[:,21:26]=X.iloc[:,21:26].astype('category')\n",
    "X.iloc[:,3:9]=X.iloc[:,3:9].astype('category')\n",
    "X.iloc[:,1]=X.iloc[:,1].astype('category')"
   ]
  },
  {
   "cell_type": "code",
   "execution_count": 6,
   "id": "07361d1b",
   "metadata": {},
   "outputs": [],
   "source": [
    "# normalize the numerical features\n",
    "num_d = X.select_dtypes(exclude=['category'])\n",
    "scaler = StandardScaler()\n",
    "X[num_d.columns] = scaler.fit_transform(num_d)"
   ]
  },
  {
   "cell_type": "code",
   "execution_count": 8,
   "id": "112c6dd4",
   "metadata": {},
   "outputs": [
    {
     "data": {
      "text/html": [
       "<div>\n",
       "<style scoped>\n",
       "    .dataframe tbody tr th:only-of-type {\n",
       "        vertical-align: middle;\n",
       "    }\n",
       "\n",
       "    .dataframe tbody tr th {\n",
       "        vertical-align: top;\n",
       "    }\n",
       "\n",
       "    .dataframe thead th {\n",
       "        text-align: right;\n",
       "    }\n",
       "</style>\n",
       "<table border=\"1\" class=\"dataframe\">\n",
       "  <thead>\n",
       "    <tr style=\"text-align: right;\">\n",
       "      <th></th>\n",
       "      <th>limit_bal</th>\n",
       "      <th>sex</th>\n",
       "      <th>age</th>\n",
       "      <th>pay_Sep</th>\n",
       "      <th>pay_Aug</th>\n",
       "      <th>pay_Jul</th>\n",
       "      <th>pay_Jun</th>\n",
       "      <th>pay_May</th>\n",
       "      <th>pay_Apr</th>\n",
       "      <th>bill_amt_Sep</th>\n",
       "      <th>...</th>\n",
       "      <th>pay_amt_Aug</th>\n",
       "      <th>pay_amt_Jul</th>\n",
       "      <th>pay_amt_Jun</th>\n",
       "      <th>pay_amt_May</th>\n",
       "      <th>pay_amt_Apr</th>\n",
       "      <th>education_graduate school</th>\n",
       "      <th>education_high school</th>\n",
       "      <th>education_university</th>\n",
       "      <th>marriage_married</th>\n",
       "      <th>marriage_single</th>\n",
       "    </tr>\n",
       "  </thead>\n",
       "  <tbody>\n",
       "    <tr>\n",
       "      <th>0</th>\n",
       "      <td>-1.136720</td>\n",
       "      <td>0</td>\n",
       "      <td>-1.246020</td>\n",
       "      <td>2</td>\n",
       "      <td>2</td>\n",
       "      <td>-1</td>\n",
       "      <td>-1</td>\n",
       "      <td>-2</td>\n",
       "      <td>-2</td>\n",
       "      <td>-0.642501</td>\n",
       "      <td>...</td>\n",
       "      <td>-0.227086</td>\n",
       "      <td>-0.296801</td>\n",
       "      <td>-0.308063</td>\n",
       "      <td>-0.314136</td>\n",
       "      <td>-0.293382</td>\n",
       "      <td>0</td>\n",
       "      <td>0</td>\n",
       "      <td>1</td>\n",
       "      <td>1</td>\n",
       "      <td>0</td>\n",
       "    </tr>\n",
       "    <tr>\n",
       "      <th>1</th>\n",
       "      <td>-0.365981</td>\n",
       "      <td>0</td>\n",
       "      <td>-1.029047</td>\n",
       "      <td>-1</td>\n",
       "      <td>2</td>\n",
       "      <td>0</td>\n",
       "      <td>0</td>\n",
       "      <td>0</td>\n",
       "      <td>2</td>\n",
       "      <td>-0.659219</td>\n",
       "      <td>...</td>\n",
       "      <td>-0.213588</td>\n",
       "      <td>-0.240005</td>\n",
       "      <td>-0.244230</td>\n",
       "      <td>-0.314136</td>\n",
       "      <td>-0.180878</td>\n",
       "      <td>0</td>\n",
       "      <td>0</td>\n",
       "      <td>1</td>\n",
       "      <td>0</td>\n",
       "      <td>1</td>\n",
       "    </tr>\n",
       "    <tr>\n",
       "      <th>2</th>\n",
       "      <td>-0.597202</td>\n",
       "      <td>0</td>\n",
       "      <td>-0.161156</td>\n",
       "      <td>0</td>\n",
       "      <td>0</td>\n",
       "      <td>0</td>\n",
       "      <td>0</td>\n",
       "      <td>0</td>\n",
       "      <td>0</td>\n",
       "      <td>-0.298560</td>\n",
       "      <td>...</td>\n",
       "      <td>-0.191887</td>\n",
       "      <td>-0.240005</td>\n",
       "      <td>-0.244230</td>\n",
       "      <td>-0.248683</td>\n",
       "      <td>-0.012122</td>\n",
       "      <td>0</td>\n",
       "      <td>0</td>\n",
       "      <td>1</td>\n",
       "      <td>0</td>\n",
       "      <td>1</td>\n",
       "    </tr>\n",
       "    <tr>\n",
       "      <th>3</th>\n",
       "      <td>-0.905498</td>\n",
       "      <td>0</td>\n",
       "      <td>0.164303</td>\n",
       "      <td>0</td>\n",
       "      <td>0</td>\n",
       "      <td>0</td>\n",
       "      <td>0</td>\n",
       "      <td>0</td>\n",
       "      <td>0</td>\n",
       "      <td>-0.057491</td>\n",
       "      <td>...</td>\n",
       "      <td>-0.169361</td>\n",
       "      <td>-0.228645</td>\n",
       "      <td>-0.237846</td>\n",
       "      <td>-0.244166</td>\n",
       "      <td>-0.237130</td>\n",
       "      <td>0</td>\n",
       "      <td>0</td>\n",
       "      <td>1</td>\n",
       "      <td>1</td>\n",
       "      <td>0</td>\n",
       "    </tr>\n",
       "    <tr>\n",
       "      <th>4</th>\n",
       "      <td>-0.905498</td>\n",
       "      <td>1</td>\n",
       "      <td>2.334029</td>\n",
       "      <td>-1</td>\n",
       "      <td>0</td>\n",
       "      <td>-1</td>\n",
       "      <td>0</td>\n",
       "      <td>0</td>\n",
       "      <td>0</td>\n",
       "      <td>-0.578618</td>\n",
       "      <td>...</td>\n",
       "      <td>1.335034</td>\n",
       "      <td>0.271165</td>\n",
       "      <td>0.266434</td>\n",
       "      <td>-0.269039</td>\n",
       "      <td>-0.255187</td>\n",
       "      <td>0</td>\n",
       "      <td>0</td>\n",
       "      <td>1</td>\n",
       "      <td>1</td>\n",
       "      <td>0</td>\n",
       "    </tr>\n",
       "    <tr>\n",
       "      <th>...</th>\n",
       "      <td>...</td>\n",
       "      <td>...</td>\n",
       "      <td>...</td>\n",
       "      <td>...</td>\n",
       "      <td>...</td>\n",
       "      <td>...</td>\n",
       "      <td>...</td>\n",
       "      <td>...</td>\n",
       "      <td>...</td>\n",
       "      <td>...</td>\n",
       "      <td>...</td>\n",
       "      <td>...</td>\n",
       "      <td>...</td>\n",
       "      <td>...</td>\n",
       "      <td>...</td>\n",
       "      <td>...</td>\n",
       "      <td>...</td>\n",
       "      <td>...</td>\n",
       "      <td>...</td>\n",
       "      <td>...</td>\n",
       "      <td>...</td>\n",
       "    </tr>\n",
       "    <tr>\n",
       "      <th>29995</th>\n",
       "      <td>0.404759</td>\n",
       "      <td>1</td>\n",
       "      <td>0.381275</td>\n",
       "      <td>0</td>\n",
       "      <td>0</td>\n",
       "      <td>0</td>\n",
       "      <td>0</td>\n",
       "      <td>0</td>\n",
       "      <td>0</td>\n",
       "      <td>1.870379</td>\n",
       "      <td>...</td>\n",
       "      <td>0.611048</td>\n",
       "      <td>-0.012648</td>\n",
       "      <td>-0.113564</td>\n",
       "      <td>0.013131</td>\n",
       "      <td>-0.237130</td>\n",
       "      <td>0</td>\n",
       "      <td>1</td>\n",
       "      <td>0</td>\n",
       "      <td>1</td>\n",
       "      <td>0</td>\n",
       "    </tr>\n",
       "    <tr>\n",
       "      <th>29996</th>\n",
       "      <td>-0.134759</td>\n",
       "      <td>1</td>\n",
       "      <td>0.815221</td>\n",
       "      <td>-1</td>\n",
       "      <td>-1</td>\n",
       "      <td>-1</td>\n",
       "      <td>-1</td>\n",
       "      <td>0</td>\n",
       "      <td>0</td>\n",
       "      <td>-0.672786</td>\n",
       "      <td>...</td>\n",
       "      <td>-0.103955</td>\n",
       "      <td>0.214255</td>\n",
       "      <td>-0.299828</td>\n",
       "      <td>-0.314136</td>\n",
       "      <td>-0.293382</td>\n",
       "      <td>0</td>\n",
       "      <td>1</td>\n",
       "      <td>0</td>\n",
       "      <td>0</td>\n",
       "      <td>1</td>\n",
       "    </tr>\n",
       "    <tr>\n",
       "      <th>29997</th>\n",
       "      <td>-1.059646</td>\n",
       "      <td>1</td>\n",
       "      <td>0.164303</td>\n",
       "      <td>4</td>\n",
       "      <td>3</td>\n",
       "      <td>2</td>\n",
       "      <td>-1</td>\n",
       "      <td>0</td>\n",
       "      <td>0</td>\n",
       "      <td>-0.647227</td>\n",
       "      <td>...</td>\n",
       "      <td>-0.256990</td>\n",
       "      <td>0.952725</td>\n",
       "      <td>-0.039964</td>\n",
       "      <td>-0.183229</td>\n",
       "      <td>-0.119001</td>\n",
       "      <td>0</td>\n",
       "      <td>0</td>\n",
       "      <td>1</td>\n",
       "      <td>0</td>\n",
       "      <td>1</td>\n",
       "    </tr>\n",
       "    <tr>\n",
       "      <th>29998</th>\n",
       "      <td>-0.674276</td>\n",
       "      <td>1</td>\n",
       "      <td>0.598248</td>\n",
       "      <td>1</td>\n",
       "      <td>-1</td>\n",
       "      <td>0</td>\n",
       "      <td>0</td>\n",
       "      <td>0</td>\n",
       "      <td>-1</td>\n",
       "      <td>-0.717982</td>\n",
       "      <td>...</td>\n",
       "      <td>-0.109033</td>\n",
       "      <td>-0.229895</td>\n",
       "      <td>-0.185120</td>\n",
       "      <td>3.152536</td>\n",
       "      <td>-0.191904</td>\n",
       "      <td>0</td>\n",
       "      <td>1</td>\n",
       "      <td>0</td>\n",
       "      <td>1</td>\n",
       "      <td>0</td>\n",
       "    </tr>\n",
       "    <tr>\n",
       "      <th>29999</th>\n",
       "      <td>-0.905498</td>\n",
       "      <td>1</td>\n",
       "      <td>1.140680</td>\n",
       "      <td>0</td>\n",
       "      <td>0</td>\n",
       "      <td>0</td>\n",
       "      <td>0</td>\n",
       "      <td>0</td>\n",
       "      <td>0</td>\n",
       "      <td>-0.044739</td>\n",
       "      <td>...</td>\n",
       "      <td>-0.178866</td>\n",
       "      <td>-0.215582</td>\n",
       "      <td>-0.244230</td>\n",
       "      <td>-0.248683</td>\n",
       "      <td>-0.237130</td>\n",
       "      <td>0</td>\n",
       "      <td>0</td>\n",
       "      <td>1</td>\n",
       "      <td>1</td>\n",
       "      <td>0</td>\n",
       "    </tr>\n",
       "  </tbody>\n",
       "</table>\n",
       "<p>30000 rows × 26 columns</p>\n",
       "</div>"
      ],
      "text/plain": [
       "       limit_bal sex       age pay_Sep pay_Aug pay_Jul pay_Jun pay_May  \\\n",
       "0      -1.136720   0 -1.246020       2       2      -1      -1      -2   \n",
       "1      -0.365981   0 -1.029047      -1       2       0       0       0   \n",
       "2      -0.597202   0 -0.161156       0       0       0       0       0   \n",
       "3      -0.905498   0  0.164303       0       0       0       0       0   \n",
       "4      -0.905498   1  2.334029      -1       0      -1       0       0   \n",
       "...          ...  ..       ...     ...     ...     ...     ...     ...   \n",
       "29995   0.404759   1  0.381275       0       0       0       0       0   \n",
       "29996  -0.134759   1  0.815221      -1      -1      -1      -1       0   \n",
       "29997  -1.059646   1  0.164303       4       3       2      -1       0   \n",
       "29998  -0.674276   1  0.598248       1      -1       0       0       0   \n",
       "29999  -0.905498   1  1.140680       0       0       0       0       0   \n",
       "\n",
       "      pay_Apr  bill_amt_Sep  ...  pay_amt_Aug  pay_amt_Jul  pay_amt_Jun  \\\n",
       "0          -2     -0.642501  ...    -0.227086    -0.296801    -0.308063   \n",
       "1           2     -0.659219  ...    -0.213588    -0.240005    -0.244230   \n",
       "2           0     -0.298560  ...    -0.191887    -0.240005    -0.244230   \n",
       "3           0     -0.057491  ...    -0.169361    -0.228645    -0.237846   \n",
       "4           0     -0.578618  ...     1.335034     0.271165     0.266434   \n",
       "...       ...           ...  ...          ...          ...          ...   \n",
       "29995       0      1.870379  ...     0.611048    -0.012648    -0.113564   \n",
       "29996       0     -0.672786  ...    -0.103955     0.214255    -0.299828   \n",
       "29997       0     -0.647227  ...    -0.256990     0.952725    -0.039964   \n",
       "29998      -1     -0.717982  ...    -0.109033    -0.229895    -0.185120   \n",
       "29999       0     -0.044739  ...    -0.178866    -0.215582    -0.244230   \n",
       "\n",
       "       pay_amt_May  pay_amt_Apr  education_graduate school  \\\n",
       "0        -0.314136    -0.293382                          0   \n",
       "1        -0.314136    -0.180878                          0   \n",
       "2        -0.248683    -0.012122                          0   \n",
       "3        -0.244166    -0.237130                          0   \n",
       "4        -0.269039    -0.255187                          0   \n",
       "...            ...          ...                        ...   \n",
       "29995     0.013131    -0.237130                          0   \n",
       "29996    -0.314136    -0.293382                          0   \n",
       "29997    -0.183229    -0.119001                          0   \n",
       "29998     3.152536    -0.191904                          0   \n",
       "29999    -0.248683    -0.237130                          0   \n",
       "\n",
       "       education_high school  education_university  marriage_married  \\\n",
       "0                          0                     1                 1   \n",
       "1                          0                     1                 0   \n",
       "2                          0                     1                 0   \n",
       "3                          0                     1                 1   \n",
       "4                          0                     1                 1   \n",
       "...                      ...                   ...               ...   \n",
       "29995                      1                     0                 1   \n",
       "29996                      1                     0                 0   \n",
       "29997                      0                     1                 0   \n",
       "29998                      1                     0                 1   \n",
       "29999                      0                     1                 1   \n",
       "\n",
       "       marriage_single  \n",
       "0                    0  \n",
       "1                    1  \n",
       "2                    1  \n",
       "3                    0  \n",
       "4                    0  \n",
       "...                ...  \n",
       "29995                0  \n",
       "29996                1  \n",
       "29997                1  \n",
       "29998                0  \n",
       "29999                0  \n",
       "\n",
       "[30000 rows x 26 columns]"
      ]
     },
     "execution_count": 8,
     "metadata": {},
     "output_type": "execute_result"
    }
   ],
   "source": [
    "X"
   ]
  },
  {
   "cell_type": "markdown",
   "id": "ffda3f41",
   "metadata": {},
   "source": [
    "## Models and performance"
   ]
  },
  {
   "cell_type": "code",
   "execution_count": 4,
   "id": "a6f8de35",
   "metadata": {},
   "outputs": [],
   "source": [
    "# split the training and testing set\n",
    "X_train, X_test, y_train, y_test = train_test_split(X, y, test_size=0.33, random_state=42, stratify = y)"
   ]
  },
  {
   "cell_type": "code",
   "execution_count": 6,
   "id": "30739cdf",
   "metadata": {},
   "outputs": [],
   "source": [
    "# Oversampling and undersampling the training dataset\n",
    "X_train, y_train = SMOTE(sampling_strategy=0.5,random_state=9).fit_resample(X_train, y_train)\n",
    "rus = RandomUnderSampler(random_state=3,sampling_strategy=0.7)\n",
    "X_train, y_train = rus.fit_resample(X_train, y_train)\n",
    "na_train=X_train.loc[X_train.isnull().any(axis=1)].index#remove the columns cotain NA\n",
    "X_train=X_train.drop(na_train)\n",
    "y_train=y_train.drop(na_train)"
   ]
  },
  {
   "cell_type": "code",
   "execution_count": 12,
   "id": "35c21024",
   "metadata": {},
   "outputs": [],
   "source": [
    "#save the training and testing datasets\n",
    "X_test.to_csv('./X_test.csv')\n",
    "X_train.to_csv('./X_train.csv')"
   ]
  },
  {
   "cell_type": "code",
   "execution_count": 12,
   "id": "b5bdf325",
   "metadata": {},
   "outputs": [
    {
     "data": {
      "text/plain": [
       "LogisticRegression(class_weight='balanced', solver='newton-cg')"
      ]
     },
     "execution_count": 12,
     "metadata": {},
     "output_type": "execute_result"
    }
   ],
   "source": [
    "#logistic regression\n",
    "logreg_sk =  LogisticRegression(solver='newton-cg' ,class_weight='balanced') \n",
    "logreg_sk.fit(X_train,y_train)"
   ]
  },
  {
   "cell_type": "code",
   "execution_count": 14,
   "id": "c7736bf2",
   "metadata": {},
   "outputs": [],
   "source": [
    "# Get the predicted classes\n",
    "logit_train_class_preds = logreg_sk.predict(X_train)\n",
    "logit_test_class_preds = logreg_sk.predict(X_test)"
   ]
  },
  {
   "cell_type": "code",
   "execution_count": 43,
   "id": "1da9603f",
   "metadata": {},
   "outputs": [],
   "source": [
    "# Get the predicted proba\n",
    "logit_train_proba_preds = logreg_sk.predict_proba(X_train)[::,1]\n",
    "logit_test_proba_preds = logreg_sk.predict_proba(X_test)[::,1]"
   ]
  },
  {
   "cell_type": "code",
   "execution_count": 23,
   "id": "f48bf664",
   "metadata": {},
   "outputs": [
    {
     "data": {
      "text/plain": [
       "(array([ 309.,  950., 1844., 2754., 3528., 3671., 1184., 1705.,  845.,\n",
       "         130.]),\n",
       " array([9.69784398e-17, 9.96250800e-02, 1.99250160e-01, 2.98875240e-01,\n",
       "        3.98500320e-01, 4.98125400e-01, 5.97750480e-01, 6.97375560e-01,\n",
       "        7.97000640e-01, 8.96625720e-01, 9.96250800e-01]),\n",
       " <BarContainer object of 10 artists>)"
      ]
     },
     "execution_count": 23,
     "metadata": {},
     "output_type": "execute_result"
    },
    {
     "data": {
      "image/png": "[encoded data removed]",
      "text/plain": [
       "<Figure size 640x480 with 1 Axes>"
      ]
     },
     "metadata": {},
     "output_type": "display_data"
    }
   ],
   "source": [
    "# histograms of logistic regression predicted default probabilities\n",
    "plt.hist(logit_train_proba_preds,10,histtype='barstacked', rwidth=0.8)"
   ]
  },
  {
   "cell_type": "code",
   "execution_count": 16,
   "id": "67da33df",
   "metadata": {},
   "outputs": [
    {
     "name": "stdout",
     "output_type": "stream",
     "text": [
      "The accuracy on train data is  0.6722813238770685\n",
      "The accuracy on test data is  0.6677777777777778\n"
     ]
    }
   ],
   "source": [
    "# Get the accuracy scores\n",
    "train_accuracy_logit = accuracy_score(logit_train_class_preds,y_train)\n",
    "test_accuracy_logit= accuracy_score(logit_test_class_preds,y_test)\n",
    "\n",
    "print(\"The accuracy on train data is \", train_accuracy_logit)\n",
    "print(\"The accuracy on test data is \", test_accuracy_logit)"
   ]
  },
  {
   "cell_type": "code",
   "execution_count": 16,
   "id": "ec4c511d",
   "metadata": {},
   "outputs": [
    {
     "name": "stdout",
     "output_type": "stream",
     "text": [
      "The accuracy on test data is  0.6677777777777778\n",
      "The precision on test data is  0.6593607305936073\n",
      "The recall on test data is  0.36217707549535993\n",
      "The f1 on test data is  0.4675408774485996\n",
      "The roc_score on test data is  0.618007191561311\n"
     ]
    }
   ],
   "source": [
    "test_accuracy_logit = accuracy_score(logit_test_class_preds,y_test)\n",
    "test_precision_score_logit = precision_score(logit_test_class_preds,y_test)\n",
    "test_recall_score_logit = recall_score(logit_test_class_preds,y_test)\n",
    "test_f1_score_logit = f1_score(logit_test_class_preds,y_test)\n",
    "test_roc_score_logit = roc_auc_score(logit_test_class_preds,y_test)\n",
    "\n",
    "print(\"The accuracy on test data is \", test_accuracy_logit)\n",
    "print(\"The precision on test data is \", test_precision_score_logit)\n",
    "print(\"The recall on test data is \", test_recall_score_logit)\n",
    "print(\"The f1 on test data is \", test_f1_score_logit)\n",
    "print(\"The roc_score on test data is \", test_roc_score_logit)"
   ]
  },
  {
   "cell_type": "code",
   "execution_count": 17,
   "id": "3bf937bf",
   "metadata": {},
   "outputs": [
    {
     "name": "stdout",
     "output_type": "stream",
     "text": [
      "Fitting 3 folds for each of 9 candidates, totalling 27 fits\n"
     ]
    },
    {
     "data": {
      "text/plain": [
       "GridSearchCV(cv=3, estimator=RandomForestClassifier(class_weight='balanced'),\n",
       "             n_jobs=-1,\n",
       "             param_grid={'max_depth': [10, 20, 30],\n",
       "                         'n_estimators': [100, 150, 200]},\n",
       "             scoring='recall', verbose=3)"
      ]
     },
     "execution_count": 17,
     "metadata": {},
     "output_type": "execute_result"
    }
   ],
   "source": [
    "#Random forest\n",
    "#Gride search for the best set of hyper-parameters\n",
    "param_grid = {'n_estimators': [100,150,200], 'max_depth': [10,20,30]}\n",
    "grid_rf_clf = GridSearchCV(RandomForestClassifier(class_weight='balanced'), param_grid, scoring = 'recall', n_jobs = -1, verbose = 3, cv = 3)\n",
    "grid_rf_clf.fit(X_train, y_train)"
   ]
  },
  {
   "cell_type": "code",
   "execution_count": 19,
   "id": "976af520",
   "metadata": {},
   "outputs": [],
   "source": [
    "#choose the optimal model\n",
    "optimal_rf_clf = grid_rf_clf.best_estimator_"
   ]
  },
  {
   "cell_type": "code",
   "execution_count": 24,
   "id": "e705bb52",
   "metadata": {},
   "outputs": [],
   "source": [
    "# Get the predicted proba\n",
    "rf_train_proba_preds =optimal_rf_clf.predict_proba(X_train)[::,1]\n",
    "rf_test_proba_preds = optimal_rf_clf.predict_proba(X_test)[::,1]"
   ]
  },
  {
   "cell_type": "code",
   "execution_count": 25,
   "id": "f2e5b22c",
   "metadata": {},
   "outputs": [],
   "source": [
    "# Get the predicted classes\n",
    "rf_train_class_preds = optimal_rf_clf.predict(X_train)\n",
    "rf_test_class_preds = optimal_rf_clf.predict(X_test)"
   ]
  },
  {
   "cell_type": "code",
   "execution_count": 29,
   "id": "745c08a8",
   "metadata": {},
   "outputs": [
    {
     "data": {
      "text/plain": [
       "(array([1097., 2856., 2737., 2884., 2219., 1244.,  938.,  698., 1144.,\n",
       "        1103.]),\n",
       " array([0.07033657, 0.15953484, 0.24873312, 0.33793139, 0.42712966,\n",
       "        0.51632793, 0.60552621, 0.69472448, 0.78392275, 0.87312102,\n",
       "        0.9623193 ]),\n",
       " <BarContainer object of 10 artists>)"
      ]
     },
     "execution_count": 29,
     "metadata": {},
     "output_type": "execute_result"
    },
    {
     "data": {
      "image/png": "[encoded data removed]",
      "text/plain": [
       "<Figure size 640x480 with 1 Axes>"
      ]
     },
     "metadata": {},
     "output_type": "display_data"
    }
   ],
   "source": [
    "# histograms of logistic regression predicted default probabilities\n",
    "plt.hist(rf_train_proba_preds,10,histtype='barstacked', rwidth=0.8)"
   ]
  },
  {
   "cell_type": "code",
   "execution_count": 26,
   "id": "c6419315",
   "metadata": {},
   "outputs": [
    {
     "name": "stdout",
     "output_type": "stream",
     "text": [
      "The accuracy on train data is  0.8152482269503546\n",
      "The accuracy on test data is  0.7686868686868686\n"
     ]
    }
   ],
   "source": [
    "# Get the accuracy scores\n",
    "train_accuracy_rf = accuracy_score(rf_train_class_preds,y_train)\n",
    "test_accuracy_rf = accuracy_score(rf_test_class_preds,y_test)\n",
    "\n",
    "print(\"The accuracy on train data is \", train_accuracy_rf)\n",
    "print(\"The accuracy on test data is \", test_accuracy_rf)"
   ]
  },
  {
   "cell_type": "code",
   "execution_count": 27,
   "id": "7f1cfb2e",
   "metadata": {},
   "outputs": [
    {
     "name": "stdout",
     "output_type": "stream",
     "text": [
      "The accuracy on test data is  0.7686868686868686\n",
      "The precision on test data is  0.5780821917808219\n",
      "The recall on test data is  0.4810030395136778\n",
      "The f1 on test data is  0.5250933222729157\n",
      "The roc_score on test data is  0.6769352016500696\n"
     ]
    }
   ],
   "source": [
    "test_accuracy_rf = accuracy_score(rf_test_class_preds,y_test)\n",
    "test_precision_score_rf = precision_score(rf_test_class_preds,y_test)\n",
    "test_recall_score_rf = recall_score(rf_test_class_preds,y_test)\n",
    "test_f1_score_rf = f1_score(rf_test_class_preds,y_test)\n",
    "test_roc_score_rf = roc_auc_score(rf_test_class_preds,y_test)\n",
    "\n",
    "print(\"The accuracy on test data is \", test_accuracy_rf)\n",
    "print(\"The precision on test data is \", test_precision_score_rf)\n",
    "print(\"The recall on test data is \", test_recall_score_rf)\n",
    "print(\"The f1 on test data is \", test_f1_score_rf)\n",
    "print(\"The roc_score on test data is \", test_roc_score_rf)"
   ]
  },
  {
   "cell_type": "code",
   "execution_count": 30,
   "id": "b8473612",
   "metadata": {},
   "outputs": [],
   "source": [
    "#XGBoosting\n",
    "xgb_train=X_train.copy()\n",
    "xgb_train.iloc[:,21:26]=xgb_train.iloc[:,21:26].astype('int64')\n",
    "xgb_train.iloc[:,3:9]=xgb_train.iloc[:,3:9].astype('int64')\n",
    "xgb_train.iloc[:,1]=xgb_train.iloc[:,1].astype('int64')"
   ]
  },
  {
   "cell_type": "code",
   "execution_count": 31,
   "id": "1ca30f23",
   "metadata": {},
   "outputs": [],
   "source": [
    "xgb_test = X_test.copy()\n",
    "xgb_test.iloc[:,21:26]=xgb_test.iloc[:,21:26].astype('int64')\n",
    "xgb_test.iloc[:,3:9]=xgb_test.iloc[:,3:9].astype('int64')\n",
    "xgb_test.iloc[:,1]=xgb_test.iloc[:,1].astype('int64')"
   ]
  },
  {
   "cell_type": "code",
   "execution_count": 26,
   "id": "7a2a7fbc",
   "metadata": {},
   "outputs": [
    {
     "name": "stdout",
     "output_type": "stream",
     "text": [
      "Fitting 3 folds for each of 112 candidates, totalling 336 fits\n",
      "[19:28:49] WARNING: C:\\Users\\dev-admin\\croot2\\xgboost-split_1675461376218\\work\\src\\learner.cc:767: \n",
      "Parameters: { \"class_weight\" } are not used.\n",
      "\n"
     ]
    },
    {
     "data": {
      "text/plain": [
       "GridSearchCV(cv=3,\n",
       "             estimator=XGBClassifier(base_score=None, booster=None,\n",
       "                                     callbacks=None, class_weight='balanced',\n",
       "                                     colsample_bylevel=None,\n",
       "                                     colsample_bynode=None,\n",
       "                                     colsample_bytree=0.8,\n",
       "                                     early_stopping_rounds=None,\n",
       "                                     enable_categorical=False, eval_metric=None,\n",
       "                                     feature_types=None, gamma=0, gpu_id=None,\n",
       "                                     grow_policy=None, importance_type=None,\n",
       "                                     interaction_constraints=None...\n",
       "                                     max_cat_threshold=None,\n",
       "                                     max_cat_to_onehot=None,\n",
       "                                     max_delta_step=None, max_depth=5,\n",
       "                                     max_leaves=None, min_child_weight=1,\n",
       "                                     missing=nan, monotone_constraints=None,\n",
       "                                     n_estimators=100, n_jobs=None, nthread=4,\n",
       "                                     num_parallel_tree=None, ...),\n",
       "             n_jobs=-1,\n",
       "             param_grid={'max_depth': range(3, 10, 2),\n",
       "                         'min_child_weight': range(3, 10),\n",
       "                         'n_estimators': range(120, 160, 10)},\n",
       "             scoring='recall', verbose=2)"
      ]
     },
     "execution_count": 26,
     "metadata": {},
     "output_type": "execute_result"
    }
   ],
   "source": [
    "# Grid search\n",
    "param_test1 = {\n",
    " 'max_depth':range(3,10,2),\n",
    " 'min_child_weight':range(3,10,1),\n",
    " 'n_estimators':range(120,160,10)\n",
    "}\n",
    "gsearch1 = GridSearchCV(estimator = XGBClassifier( learning_rate =0.01, n_estimators=100, max_depth=5,\n",
    " min_child_weight=1, gamma=0, subsample=0.8, colsample_bytree=0.8,\n",
    " objective= 'binary:logistic', nthread=4, scale_pos_weight=1, seed=27,class_weight='balanced'), \n",
    " param_grid = param_test1, scoring='recall',n_jobs=-1, cv=3, verbose = 2)\n",
    "\n",
    "\n",
    "gsearch1.fit(xgb_train, y_train)"
   ]
  },
  {
   "cell_type": "code",
   "execution_count": 27,
   "id": "213b82f3",
   "metadata": {},
   "outputs": [
    {
     "data": {
      "text/plain": [
       "XGBClassifier(base_score=None, booster=None, callbacks=None,\n",
       "              class_weight='balanced', colsample_bylevel=None,\n",
       "              colsample_bynode=None, colsample_bytree=0.8,\n",
       "              early_stopping_rounds=None, enable_categorical=False,\n",
       "              eval_metric=None, feature_types=None, gamma=0, gpu_id=None,\n",
       "              grow_policy=None, importance_type=None,\n",
       "              interaction_constraints=None, learning_rate=0.01, max_bin=None,\n",
       "              max_cat_threshold=None, max_cat_to_onehot=None,\n",
       "              max_delta_step=None, max_depth=9, max_leaves=None,\n",
       "              min_child_weight=9, missing=nan, monotone_constraints=None,\n",
       "              n_estimators=140, n_jobs=None, nthread=4, num_parallel_tree=None, ...)"
      ]
     },
     "execution_count": 27,
     "metadata": {},
     "output_type": "execute_result"
    }
   ],
   "source": [
    "gsearch1.best_estimator_"
   ]
  },
  {
   "cell_type": "code",
   "execution_count": 28,
   "id": "6fc477f1",
   "metadata": {},
   "outputs": [],
   "source": [
    "#select the best model\n",
    "optimal_xgb = gsearch1.best_estimator_"
   ]
  },
  {
   "cell_type": "code",
   "execution_count": 32,
   "id": "d6faaedb",
   "metadata": {},
   "outputs": [],
   "source": [
    "# Get the predicted proba\n",
    "xgb_train_proba_preds = optimal_xgb.predict_proba(xgb_train)[::,1]\n",
    "xgb_test_proba_preds = optimal_xgb.predict_proba(xgb_test)[::,1]"
   ]
  },
  {
   "cell_type": "code",
   "execution_count": 33,
   "id": "c76a8d02",
   "metadata": {},
   "outputs": [],
   "source": [
    "# Get the predicted classes\n",
    "xgb_train_class_preds = optimal_xgb.predict(xgb_train)\n",
    "xgb_test_class_preds = optimal_xgb.predict(xgb_test)"
   ]
  },
  {
   "cell_type": "code",
   "execution_count": 36,
   "id": "74dc3c20",
   "metadata": {},
   "outputs": [
    {
     "data": {
      "text/plain": [
       "(array([2301., 3974., 3509., 2225., 1228.,  773.,  583.,  679., 1100.,\n",
       "         548.]),\n",
       " array([0.14788005, 0.21679588, 0.2857117 , 0.35462755, 0.42354336,\n",
       "        0.49245918, 0.561375  , 0.63029087, 0.6992067 , 0.7681225 ,\n",
       "        0.83703834], dtype=float32),\n",
       " <BarContainer object of 10 artists>)"
      ]
     },
     "execution_count": 36,
     "metadata": {},
     "output_type": "execute_result"
    },
    {
     "data": {
      "image/png": "[encoded data removed]",
      "text/plain": [
       "<Figure size 640x480 with 1 Axes>"
      ]
     },
     "metadata": {},
     "output_type": "display_data"
    }
   ],
   "source": [
    "# histograms of logistic regression predicted default probabilities\n",
    "plt.hist(xgb_train_proba_preds,10,histtype='barstacked', rwidth=0.8)"
   ]
  },
  {
   "cell_type": "code",
   "execution_count": 34,
   "id": "43f1dba7",
   "metadata": {},
   "outputs": [
    {
     "name": "stdout",
     "output_type": "stream",
     "text": [
      "The accuracy on train data is  0.7862293144208038\n",
      "The accuracy on test data is  0.8118181818181818\n"
     ]
    }
   ],
   "source": [
    "# Get the accuracy scores\n",
    "train_accuracy_xgb_tuned = accuracy_score(xgb_train_class_preds,y_train)\n",
    "test_accuracy_xgb_tuned = accuracy_score(xgb_test_class_preds,y_test)\n",
    "\n",
    "print(\"The accuracy on train data is \", train_accuracy_xgb_tuned)\n",
    "print(\"The accuracy on test data is \", test_accuracy_xgb_tuned)#???"
   ]
  },
  {
   "cell_type": "code",
   "execution_count": 35,
   "id": "1f84a176",
   "metadata": {},
   "outputs": [
    {
     "name": "stdout",
     "output_type": "stream",
     "text": [
      "The accuracy on test data is  0.8118181818181818\n",
      "The precision on test data is  0.43789954337899545\n",
      "The recall on test data is  0.6027655562539284\n",
      "The f1 on test data is  0.5072732081459932\n",
      "The roc_score on train data is  0.727306475322776\n"
     ]
    }
   ],
   "source": [
    "test_accuracy_xgb_tuned = accuracy_score(xgb_test_class_preds,y_test)\n",
    "test_precision_xgb_tuned = precision_score(xgb_test_class_preds,y_test)\n",
    "test_recall_score_xgb_tuned = recall_score(xgb_test_class_preds,y_test)\n",
    "test_f1_score_xgb_tuned = f1_score(xgb_test_class_preds,y_test)\n",
    "test_roc_score_xgb_tuned = roc_auc_score(xgb_test_class_preds,y_test)\n",
    "\n",
    "print(\"The accuracy on test data is \", test_accuracy_xgb_tuned)\n",
    "print(\"The precision on test data is \", test_precision_xgb_tuned)\n",
    "print(\"The recall on test data is \", test_recall_score_xgb_tuned)\n",
    "print(\"The f1 on test data is \", test_f1_score_xgb_tuned)\n",
    "print(\"The roc_score on train data is \", test_roc_score_xgb_tuned)"
   ]
  },
  {
   "cell_type": "code",
   "execution_count": 33,
   "id": "0b8ee9cc",
   "metadata": {},
   "outputs": [],
   "source": [
    "# model comparison \n",
    "classifiers = ['Logistic Regression','Random Forest CLf', 'Xgboost Clf']\n",
    "train_accuracy = [train_accuracy_logit, train_accuracy_rf, train_accuracy_xgb_tuned]\n",
    "test_accuracy = [test_accuracy_logit, test_accuracy_rf, test_accuracy_xgb_tuned]\n",
    "test_precision_score = [test_precision_score_logit, test_precision_score_rf, test_precision_xgb_tuned]\n",
    "test_recall_score = [test_recall_score_logit, test_recall_score_rf, test_recall_score_xgb_tuned]\n",
    "test_f1_score = [test_f1_score_logit, test_f1_score_rf, test_f1_score_xgb_tuned]"
   ]
  },
  {
   "cell_type": "code",
   "execution_count": 34,
   "id": "82f95552",
   "metadata": {},
   "outputs": [
    {
     "data": {
      "text/html": [
       "<div>\n",
       "<style scoped>\n",
       "    .dataframe tbody tr th:only-of-type {\n",
       "        vertical-align: middle;\n",
       "    }\n",
       "\n",
       "    .dataframe tbody tr th {\n",
       "        vertical-align: top;\n",
       "    }\n",
       "\n",
       "    .dataframe thead th {\n",
       "        text-align: right;\n",
       "    }\n",
       "</style>\n",
       "<table border=\"1\" class=\"dataframe\">\n",
       "  <thead>\n",
       "    <tr style=\"text-align: right;\">\n",
       "      <th></th>\n",
       "      <th>Classifier</th>\n",
       "      <th>Train Accuracy</th>\n",
       "      <th>Test Accuracy</th>\n",
       "      <th>Precision Score</th>\n",
       "      <th>Recall Score</th>\n",
       "      <th>F1 Score</th>\n",
       "    </tr>\n",
       "  </thead>\n",
       "  <tbody>\n",
       "    <tr>\n",
       "      <th>0</th>\n",
       "      <td>Logistic Regression</td>\n",
       "      <td>0.672281</td>\n",
       "      <td>0.667778</td>\n",
       "      <td>0.659361</td>\n",
       "      <td>0.362177</td>\n",
       "      <td>0.467541</td>\n",
       "    </tr>\n",
       "    <tr>\n",
       "      <th>1</th>\n",
       "      <td>Random Forest CLf</td>\n",
       "      <td>0.815248</td>\n",
       "      <td>0.768687</td>\n",
       "      <td>0.578082</td>\n",
       "      <td>0.481003</td>\n",
       "      <td>0.525093</td>\n",
       "    </tr>\n",
       "    <tr>\n",
       "      <th>2</th>\n",
       "      <td>Xgboost Clf</td>\n",
       "      <td>0.786229</td>\n",
       "      <td>0.811818</td>\n",
       "      <td>0.437900</td>\n",
       "      <td>0.602766</td>\n",
       "      <td>0.507273</td>\n",
       "    </tr>\n",
       "  </tbody>\n",
       "</table>\n",
       "</div>"
      ],
      "text/plain": [
       "            Classifier  Train Accuracy  Test Accuracy  Precision Score  \\\n",
       "0  Logistic Regression        0.672281       0.667778         0.659361   \n",
       "1    Random Forest CLf        0.815248       0.768687         0.578082   \n",
       "2          Xgboost Clf        0.786229       0.811818         0.437900   \n",
       "\n",
       "   Recall Score  F1 Score  \n",
       "0      0.362177  0.467541  \n",
       "1      0.481003  0.525093  \n",
       "2      0.602766  0.507273  "
      ]
     },
     "execution_count": 34,
     "metadata": {},
     "output_type": "execute_result"
    }
   ],
   "source": [
    "pd.DataFrame({'Classifier':classifiers, 'Train Accuracy': train_accuracy, 'Test Accuracy': test_accuracy, 'Precision Score': test_precision_score, 'Recall Score': test_recall_score, 'F1 Score': test_f1_score })"
   ]
  },
  {
   "cell_type": "code",
   "execution_count": 35,
   "id": "25996d3f",
   "metadata": {},
   "outputs": [],
   "source": [
    "#AUC\n",
    "classifiers_proba = [(logreg_sk,logit_test_proba_preds), \n",
    "               (optimal_rf_clf, rf_test_proba_preds), \n",
    "               (optimal_xgb, xgb_test_proba_preds)]\n",
    "\n",
    "# Define a result table as a DataFrame\n",
    "result_table = pd.DataFrame(columns=['classifiers', 'fpr','tpr','roc_auc','precision','recall'])\n",
    "\n",
    "\n",
    "\n",
    "\n",
    "# Train the models and record the results\n",
    "for pair in classifiers_proba:\n",
    "    \n",
    "    fpr, tpr, _ = roc_curve(y_test,  pair[1])\n",
    "    precision, recall, _ = precision_recall_curve(y_test, pair[1])\n",
    "    roc_auc = roc_auc_score(y_test, pair[1])\n",
    "    pr_auc = auc(recall, precision)\n",
    "    new_row = pd.DataFrame({ 'classifiers': pair[0].__class__.__name__, 'fpr': [fpr], 'tpr':[tpr], 'roc_auc':[roc_auc], 'precision':[precision], 'recall':[recall], 'pr_auc':[pr_auc] })\n",
    "    result_table = pd.concat([result_table, new_row])\n",
    "   # result_table = result_table.append({'classifiers':pair[0].__class__.__name__,\n",
    "    #                                    'fpr':fpr, \n",
    "     #                                   'tpr':tpr, \n",
    "      #                                  'auc':auc}, ignore_index=True)\n",
    "    \n",
    "    \n",
    "# Set name of the classifiers as index labels\n",
    "result_table.set_index('classifiers', inplace=True)"
   ]
  },
  {
   "cell_type": "code",
   "execution_count": 36,
   "id": "8b94ed7c",
   "metadata": {},
   "outputs": [
    {
     "data": {
      "image/png": "[encoded data removed]",
      "text/plain": [
       "<Figure size 800x600 with 1 Axes>"
      ]
     },
     "metadata": {},
     "output_type": "display_data"
    }
   ],
   "source": [
    "fig = plt.figure(figsize=(8,6))\n",
    "\n",
    "for i in result_table.index:\n",
    "    plt.plot(result_table.loc[i]['fpr'], \n",
    "             result_table.loc[i]['tpr'], \n",
    "             label=\"{}, AUC={:.3f}\".format(i, result_table.loc[i]['roc_auc']))\n",
    "    \n",
    "plt.plot([0,1], [0,1], color='orange', linestyle='--')\n",
    "\n",
    "plt.xticks(np.arange(0.0, 1.1, step=0.1))\n",
    "plt.xlabel(\"Flase Positive Rate\", fontsize=15)\n",
    "\n",
    "plt.yticks(np.arange(0.0, 1.1, step=0.1))\n",
    "plt.ylabel(\"True Positive Rate\", fontsize=15)\n",
    "\n",
    "plt.title('ROC Curve Analysis', fontweight='bold', fontsize=15)\n",
    "plt.legend(prop={'size':13}, loc='lower right')\n",
    "\n",
    "plt.show()"
   ]
  },
  {
   "cell_type": "code",
   "execution_count": 37,
   "id": "11cf4940",
   "metadata": {},
   "outputs": [
    {
     "data": {
      "image/png": "[encoded data removed]",
      "text/plain": [
       "<Figure size 800x600 with 1 Axes>"
      ]
     },
     "metadata": {},
     "output_type": "display_data"
    }
   ],
   "source": [
    "fig = plt.figure(figsize=(8,6))\n",
    "\n",
    "for i in result_table.index:\n",
    "    plt.plot(result_table.loc[i]['recall'], \n",
    "             result_table.loc[i]['precision'], \n",
    "             label=\"{}, AUC={:.3f}\".format(i, result_table.loc[i]['pr_auc']))\n",
    "    \n",
    "\n",
    "plt.xticks(np.arange(0.0, 1.1, step=0.1))\n",
    "plt.xlabel(\"Recall\", fontsize=15)\n",
    "\n",
    "plt.yticks(np.arange(0.0, 1.1, step=0.1))\n",
    "plt.ylabel(\"Precision\", fontsize=15)\n",
    "\n",
    "plt.title('Precision Recall Curve', fontweight='bold', fontsize=15)\n",
    "plt.legend(prop={'size':13}, loc='lower right')\n",
    "\n",
    "plt.show()"
   ]
  },
  {
   "cell_type": "code",
   "execution_count": 62,
   "id": "ef8072c0",
   "metadata": {},
   "outputs": [],
   "source": [
    "#store the model\n",
    "import pickle\n",
    "filename1 = 'logistic_model.sav'\n",
    "pickle.dump(logreg_sk, open(filename1, 'wb'))\n",
    "filename2 = 'rf.sav'\n",
    "pickle.dump(optimal_rf_clf, open(filename2, 'wb'))\n",
    "filename3 = 'xgb.sav'\n",
    "pickle.dump(optimal_xgb, open(filename3, 'wb'))"
   ]
  }
 ],
 "metadata": {
  "kernelspec": {
   "display_name": "Python 3 (ipykernel)",
   "language": "python",
   "name": "python3"
  },
  "language_info": {
   "codemirror_mode": {
    "name": "ipython",
    "version": 3
   },
   "file_extension": ".py",
   "mimetype": "text/x-python",
   "name": "python",
   "nbconvert_exporter": "python",
   "pygments_lexer": "ipython3",
   "version": "3.9.13"
  }
 },
 "nbformat": 4,
 "nbformat_minor": 5
}
